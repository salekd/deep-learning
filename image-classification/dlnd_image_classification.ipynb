{
 "cells": [
  {
   "cell_type": "markdown",
   "metadata": {
    "collapsed": true,
    "deletable": true,
    "editable": true
   },
   "source": [
    "# Image Classification\n",
    "In this project, you'll classify images from the [CIFAR-10 dataset](https://www.cs.toronto.edu/~kriz/cifar.html).  The dataset consists of airplanes, dogs, cats, and other objects. You'll preprocess the images, then train a convolutional neural network on all the samples. The images need to be normalized and the labels need to be one-hot encoded.  You'll get to apply what you learned and build a convolutional, max pooling, dropout, and fully connected layers.  At the end, you'll get to see your neural network's predictions on the sample images.\n",
    "## Get the Data\n",
    "Run the following cell to download the [CIFAR-10 dataset for python](https://www.cs.toronto.edu/~kriz/cifar-10-python.tar.gz)."
   ]
  },
  {
   "cell_type": "code",
   "execution_count": 1,
   "metadata": {
    "collapsed": false,
    "deletable": true,
    "editable": true
   },
   "outputs": [
    {
     "name": "stderr",
     "output_type": "stream",
     "text": [
      "CIFAR-10 Dataset: 171MB [00:29, 5.73MB/s]                              \n"
     ]
    },
    {
     "name": "stdout",
     "output_type": "stream",
     "text": [
      "All files found!\n"
     ]
    }
   ],
   "source": [
    "\"\"\"\n",
    "DON'T MODIFY ANYTHING IN THIS CELL THAT IS BELOW THIS LINE\n",
    "\"\"\"\n",
    "from urllib.request import urlretrieve\n",
    "from os.path import isfile, isdir\n",
    "from tqdm import tqdm\n",
    "import problem_unittests as tests\n",
    "import tarfile\n",
    "\n",
    "cifar10_dataset_folder_path = 'cifar-10-batches-py'\n",
    "\n",
    "# Use Floyd's cifar-10 dataset if present\n",
    "floyd_cifar10_location = '/input/cifar-10/python.tar.gz'\n",
    "if isfile(floyd_cifar10_location):\n",
    "    tar_gz_path = floyd_cifar10_location\n",
    "else:\n",
    "    tar_gz_path = 'cifar-10-python.tar.gz'\n",
    "\n",
    "class DLProgress(tqdm):\n",
    "    last_block = 0\n",
    "\n",
    "    def hook(self, block_num=1, block_size=1, total_size=None):\n",
    "        self.total = total_size\n",
    "        self.update((block_num - self.last_block) * block_size)\n",
    "        self.last_block = block_num\n",
    "\n",
    "if not isfile(tar_gz_path):\n",
    "    with DLProgress(unit='B', unit_scale=True, miniters=1, desc='CIFAR-10 Dataset') as pbar:\n",
    "        urlretrieve(\n",
    "            'https://www.cs.toronto.edu/~kriz/cifar-10-python.tar.gz',\n",
    "            tar_gz_path,\n",
    "            pbar.hook)\n",
    "\n",
    "if not isdir(cifar10_dataset_folder_path):\n",
    "    with tarfile.open(tar_gz_path) as tar:\n",
    "        tar.extractall()\n",
    "        tar.close()\n",
    "\n",
    "\n",
    "tests.test_folder_path(cifar10_dataset_folder_path)"
   ]
  },
  {
   "cell_type": "markdown",
   "metadata": {
    "deletable": true,
    "editable": true
   },
   "source": [
    "## Explore the Data\n",
    "The dataset is broken into batches to prevent your machine from running out of memory.  The CIFAR-10 dataset consists of 5 batches, named `data_batch_1`, `data_batch_2`, etc.. Each batch contains the labels and images that are one of the following:\n",
    "* airplane\n",
    "* automobile\n",
    "* bird\n",
    "* cat\n",
    "* deer\n",
    "* dog\n",
    "* frog\n",
    "* horse\n",
    "* ship\n",
    "* truck\n",
    "\n",
    "Understanding a dataset is part of making predictions on the data.  Play around with the code cell below by changing the `batch_id` and `sample_id`. The `batch_id` is the id for a batch (1-5). The `sample_id` is the id for a image and label pair in the batch.\n",
    "\n",
    "Ask yourself \"What are all possible labels?\", \"What is the range of values for the image data?\", \"Are the labels in order or random?\".  Answers to questions like these will help you preprocess the data and end up with better predictions."
   ]
  },
  {
   "cell_type": "code",
   "execution_count": 4,
   "metadata": {
    "collapsed": false,
    "deletable": true,
    "editable": true
   },
   "outputs": [
    {
     "name": "stdout",
     "output_type": "stream",
     "text": [
      "\n",
      "Stats of batch 1:\n",
      "Samples: 10000\n",
      "Label Counts: {0: 1005, 1: 974, 2: 1032, 3: 1016, 4: 999, 5: 937, 6: 1030, 7: 1001, 8: 1025, 9: 981}\n",
      "First 20 Labels: [6, 9, 9, 4, 1, 1, 2, 7, 8, 3, 4, 7, 7, 2, 9, 9, 9, 3, 2, 6]\n",
      "\n",
      "Example of Image 4:\n",
      "Image - Min Value: 0 Max Value: 254\n",
      "Image - Shape: (32, 32, 3)\n",
      "Label - Label Id: 1 Name: automobile\n"
     ]
    },
    {
     "data": {
      "image/png": "[encoded data removed]",
      "text/plain": [
       "<matplotlib.figure.Figure at 0x7fd234b3af98>"
      ]
     },
     "metadata": {
      "image/png": {
       "height": 250,
       "width": 253
      }
     },
     "output_type": "display_data"
    }
   ],
   "source": [
    "%matplotlib inline\n",
    "%config InlineBackend.figure_format = 'retina'\n",
    "\n",
    "import helper\n",
    "import numpy as np\n",
    "\n",
    "# Explore the dataset\n",
    "batch_id = 1\n",
    "sample_id = 4\n",
    "helper.display_stats(cifar10_dataset_folder_path, batch_id, sample_id)"
   ]
  },
  {
   "cell_type": "markdown",
   "metadata": {
    "deletable": true,
    "editable": true
   },
   "source": [
    "## Implement Preprocess Functions\n",
    "### Normalize\n",
    "In the cell below, implement the `normalize` function to take in image data, `x`, and return it as a normalized Numpy array. The values should be in the range of 0 to 1, inclusive.  The return object should be the same shape as `x`."
   ]
  },
  {
   "cell_type": "code",
   "execution_count": 8,
   "metadata": {
    "collapsed": false,
    "deletable": true,
    "editable": true
   },
   "outputs": [
    {
     "name": "stdout",
     "output_type": "stream",
     "text": [
      "0 255\n",
      "Tests Passed\n"
     ]
    }
   ],
   "source": [
    "def normalize(x):\n",
    "    \"\"\"\n",
    "    Normalize a list of sample image data in the range of 0 to 1\n",
    "    : x: List of image data.  The image shape is (32, 32, 3)\n",
    "    : return: Numpy array of normalize data\n",
    "    \"\"\"\n",
    "    # TODO: Implement Function\n",
    "    print(x.min(), x.max())\n",
    "    return x / 255.0\n",
    "\n",
    "\n",
    "\"\"\"\n",
    "DON'T MODIFY ANYTHING IN THIS CELL THAT IS BELOW THIS LINE\n",
    "\"\"\"\n",
    "tests.test_normalize(normalize)"
   ]
  },
  {
   "cell_type": "markdown",
   "metadata": {
    "deletable": true,
    "editable": true
   },
   "source": [
    "### One-hot encode\n",
    "Just like the previous code cell, you'll be implementing a function for preprocessing.  This time, you'll implement the `one_hot_encode` function. The input, `x`, are a list of labels.  Implement the function to return the list of labels as One-Hot encoded Numpy array.  The possible values for labels are 0 to 9. The one-hot encoding function should return the same encoding for each value between each call to `one_hot_encode`.  Make sure to save the map of encodings outside the function.\n",
    "\n",
    "Hint: Don't reinvent the wheel."
   ]
  },
  {
   "cell_type": "code",
   "execution_count": 11,
   "metadata": {
    "collapsed": false,
    "deletable": true,
    "editable": true
   },
   "outputs": [
    {
     "name": "stdout",
     "output_type": "stream",
     "text": [
      "Tests Passed\n"
     ]
    }
   ],
   "source": [
    "def one_hot_encode(x):\n",
    "    \"\"\"\n",
    "    One hot encode a list of sample labels. Return a one-hot encoded vector for each label.\n",
    "    : x: List of sample Labels\n",
    "    : return: Numpy array of one-hot encoded labels\n",
    "    \"\"\"\n",
    "    # TODO: Implement Function\n",
    "    #n = len(x)\n",
    "    #onehot = np.zeros((n, 10))\n",
    "    #onehot[np.arange(n), x] = 1\n",
    "    onehot = np.eye(10)[x]\n",
    "    return onehot\n",
    "\n",
    "\n",
    "\"\"\"\n",
    "DON'T MODIFY ANYTHING IN THIS CELL THAT IS BELOW THIS LINE\n",
    "\"\"\"\n",
    "tests.test_one_hot_encode(one_hot_encode)"
   ]
  },
  {
   "cell_type": "markdown",
   "metadata": {
    "deletable": true,
    "editable": true
   },
   "source": [
    "### Randomize Data\n",
    "As you saw from exploring the data above, the order of the samples are randomized.  It doesn't hurt to randomize it again, but you don't need to for this dataset."
   ]
  },
  {
   "cell_type": "markdown",
   "metadata": {
    "deletable": true,
    "editable": true
   },
   "source": [
    "## Preprocess all the data and save it\n",
    "Running the code cell below will preprocess all the CIFAR-10 data and save it to file. The code below also uses 10% of the training data for validation."
   ]
  },
  {
   "cell_type": "code",
   "execution_count": 12,
   "metadata": {
    "collapsed": false,
    "deletable": true,
    "editable": true
   },
   "outputs": [
    {
     "name": "stdout",
     "output_type": "stream",
     "text": [
      "0 255\n",
      "0 255\n",
      "0 255\n",
      "0 255\n",
      "0 255\n",
      "0 255\n",
      "0 255\n"
     ]
    }
   ],
   "source": [
    "\"\"\"\n",
    "DON'T MODIFY ANYTHING IN THIS CELL\n",
    "\"\"\"\n",
    "# Preprocess Training, Validation, and Testing Data\n",
    "helper.preprocess_and_save_data(cifar10_dataset_folder_path, normalize, one_hot_encode)"
   ]
  },
  {
   "cell_type": "markdown",
   "metadata": {
    "deletable": true,
    "editable": true
   },
   "source": [
    "# Check Point\n",
    "This is your first checkpoint.  If you ever decide to come back to this notebook or have to restart the notebook, you can start from here.  The preprocessed data has been saved to disk."
   ]
  },
  {
   "cell_type": "code",
   "execution_count": 13,
   "metadata": {
    "collapsed": true,
    "deletable": true,
    "editable": true
   },
   "outputs": [],
   "source": [
    "\"\"\"\n",
    "DON'T MODIFY ANYTHING IN THIS CELL\n",
    "\"\"\"\n",
    "import pickle\n",
    "import problem_unittests as tests\n",
    "import helper\n",
    "\n",
    "# Load the Preprocessed Validation data\n",
    "valid_features, valid_labels = pickle.load(open('preprocess_validation.p', mode='rb'))"
   ]
  },
  {
   "cell_type": "markdown",
   "metadata": {
    "deletable": true,
    "editable": true
   },
   "source": [
    "## Build the network\n",
    "For the neural network, you'll build each layer into a function.  Most of the code you've seen has been outside of functions. To test your code more thoroughly, we require that you put each layer in a function.  This allows us to give you better feedback and test for simple mistakes using our unittests before you submit your project.\n",
    "\n",
    ">**Note:** If you're finding it hard to dedicate enough time for this course each week, we've provided a small shortcut to this part of the project. In the next couple of problems, you'll have the option to use classes from the [TensorFlow Layers](https://www.tensorflow.org/api_docs/python/tf/layers) or [TensorFlow Layers (contrib)](https://www.tensorflow.org/api_guides/python/contrib.layers) packages to build each layer, except the layers you build in the \"Convolutional and Max Pooling Layer\" section.  TF Layers is similar to Keras's and TFLearn's abstraction to layers, so it's easy to pickup.\n",
    "\n",
    ">However, if you would like to get the most out of this course, try to solve all the problems _without_ using anything from the TF Layers packages. You **can** still use classes from other packages that happen to have the same name as ones you find in TF Layers! For example, instead of using the TF Layers version of the `conv2d` class, [tf.layers.conv2d](https://www.tensorflow.org/api_docs/python/tf/layers/conv2d), you would want to use the TF Neural Network version of `conv2d`, [tf.nn.conv2d](https://www.tensorflow.org/api_docs/python/tf/nn/conv2d). \n",
    "\n",
    "Let's begin!\n",
    "\n",
    "### Input\n",
    "The neural network needs to read the image data, one-hot encoded labels, and dropout keep probability. Implement the following functions\n",
    "* Implement `neural_net_image_input`\n",
    " * Return a [TF Placeholder](https://www.tensorflow.org/api_docs/python/tf/placeholder)\n",
    " * Set the shape using `image_shape` with batch size set to `None`.\n",
    " * Name the TensorFlow placeholder \"x\" using the TensorFlow `name` parameter in the [TF Placeholder](https://www.tensorflow.org/api_docs/python/tf/placeholder).\n",
    "* Implement `neural_net_label_input`\n",
    " * Return a [TF Placeholder](https://www.tensorflow.org/api_docs/python/tf/placeholder)\n",
    " * Set the shape using `n_classes` with batch size set to `None`.\n",
    " * Name the TensorFlow placeholder \"y\" using the TensorFlow `name` parameter in the [TF Placeholder](https://www.tensorflow.org/api_docs/python/tf/placeholder).\n",
    "* Implement `neural_net_keep_prob_input`\n",
    " * Return a [TF Placeholder](https://www.tensorflow.org/api_docs/python/tf/placeholder) for dropout keep probability.\n",
    " * Name the TensorFlow placeholder \"keep_prob\" using the TensorFlow `name` parameter in the [TF Placeholder](https://www.tensorflow.org/api_docs/python/tf/placeholder).\n",
    "\n",
    "These names will be used at the end of the project to load your saved model.\n",
    "\n",
    "Note: `None` for shapes in TensorFlow allow for a dynamic size."
   ]
  },
  {
   "cell_type": "code",
   "execution_count": 16,
   "metadata": {
    "collapsed": false,
    "deletable": true,
    "editable": true
   },
   "outputs": [
    {
     "name": "stdout",
     "output_type": "stream",
     "text": [
      "Image Input Tests Passed.\n",
      "Label Input Tests Passed.\n",
      "Keep Prob Tests Passed.\n"
     ]
    }
   ],
   "source": [
    "import tensorflow as tf\n",
    "\n",
    "def neural_net_image_input(image_shape):\n",
    "    \"\"\"\n",
    "    Return a Tensor for a batch of image input\n",
    "    : image_shape: Shape of the images\n",
    "    : return: Tensor for image input.\n",
    "    \"\"\"\n",
    "    # TODO: Implement Function\n",
    "    return tf.placeholder(tf.float32, (None, image_shape[0], image_shape[1], image_shape[2]), 'x')\n",
    "\n",
    "\n",
    "def neural_net_label_input(n_classes):\n",
    "    \"\"\"\n",
    "    Return a Tensor for a batch of label input\n",
    "    : n_classes: Number of classes\n",
    "    : return: Tensor for label input.\n",
    "    \"\"\"\n",
    "    # TODO: Implement Function\n",
    "    return tf.placeholder(tf.float32, (None, n_classes), 'y')\n",
    "\n",
    "\n",
    "def neural_net_keep_prob_input():\n",
    "    \"\"\"\n",
    "    Return a Tensor for keep probability\n",
    "    : return: Tensor for keep probability.\n",
    "    \"\"\"\n",
    "    # TODO: Implement Function\n",
    "    return tf.placeholder(tf.float32, name='keep_prob')\n",
    "\n",
    "\n",
    "\"\"\"\n",
    "DON'T MODIFY ANYTHING IN THIS CELL THAT IS BELOW THIS LINE\n",
    "\"\"\"\n",
    "tf.reset_default_graph()\n",
    "tests.test_nn_image_inputs(neural_net_image_input)\n",
    "tests.test_nn_label_inputs(neural_net_label_input)\n",
    "tests.test_nn_keep_prob_inputs(neural_net_keep_prob_input)"
   ]
  },
  {
   "cell_type": "markdown",
   "metadata": {
    "deletable": true,
    "editable": true
   },
   "source": [
    "### Convolution and Max Pooling Layer\n",
    "Convolution layers have a lot of success with images. For this code cell, you should implement the function `conv2d_maxpool` to apply convolution then max pooling:\n",
    "* Create the weight and bias using `conv_ksize`, `conv_num_outputs` and the shape of `x_tensor`.\n",
    "* Apply a convolution to `x_tensor` using weight and `conv_strides`.\n",
    " * We recommend you use same padding, but you're welcome to use any padding.\n",
    "* Add bias\n",
    "* Add a nonlinear activation to the convolution.\n",
    "* Apply Max Pooling using `pool_ksize` and `pool_strides`.\n",
    " * We recommend you use same padding, but you're welcome to use any padding.\n",
    "\n",
    "**Note:** You **can't** use [TensorFlow Layers](https://www.tensorflow.org/api_docs/python/tf/layers) or [TensorFlow Layers (contrib)](https://www.tensorflow.org/api_guides/python/contrib.layers) for **this** layer, but you can still use TensorFlow's [Neural Network](https://www.tensorflow.org/api_docs/python/tf/nn) package. You may still use the shortcut option for all the **other** layers."
   ]
  },
  {
   "cell_type": "code",
   "execution_count": 21,
   "metadata": {
    "collapsed": false,
    "deletable": true,
    "editable": true
   },
   "outputs": [
    {
     "name": "stdout",
     "output_type": "stream",
     "text": [
      "Tests Passed\n"
     ]
    }
   ],
   "source": [
    "def conv2d_maxpool(x_tensor, conv_num_outputs, conv_ksize, conv_strides, pool_ksize, pool_strides):\n",
    "    \"\"\"\n",
    "    Apply convolution then max pooling to x_tensor\n",
    "    :param x_tensor: TensorFlow Tensor\n",
    "    :param conv_num_outputs: Number of outputs for the convolutional layer\n",
    "    :param conv_ksize: kernal size 2-D Tuple for the convolutional layer\n",
    "    :param conv_strides: Stride 2-D Tuple for convolution\n",
    "    :param pool_ksize: kernal size 2-D Tuple for pool\n",
    "    :param pool_strides: Stride 2-D Tuple for pool\n",
    "    : return: A tensor that represents convolution and max pooling of x_tensor\n",
    "    \"\"\"\n",
    "    # TODO: Implement Function\n",
    "    weights = tf.Variable(tf.truncated_normal([conv_ksize[0], conv_ksize[1], x_tensor.shape[3].value, conv_num_outputs],\\\n",
    "                                              mean=0.0, stddev=0.1))\n",
    "    bias = tf.Variable(tf.zeros(conv_num_outputs))\n",
    "    \n",
    "    layer = tf.nn.conv2d(x_tensor, weights, strides=[1, conv_strides[0], conv_strides[1], 1], padding='SAME')\n",
    "    layer = tf.nn.bias_add(layer, bias)\n",
    "    \n",
    "    layer = tf.nn.relu(layer)\n",
    "                          \n",
    "    layer = tf.nn.max_pool(layer, ksize=[1, pool_ksize[0], pool_ksize[1], 1],\\\n",
    "                           strides=[1, pool_strides[0], pool_strides[1], 1], padding='SAME')\n",
    "\n",
    "    return layer\n",
    "\n",
    "\n",
    "\"\"\"\n",
    "DON'T MODIFY ANYTHING IN THIS CELL THAT IS BELOW THIS LINE\n",
    "\"\"\"\n",
    "tests.test_con_pool(conv2d_maxpool)"
   ]
  },
  {
   "cell_type": "markdown",
   "metadata": {
    "deletable": true,
    "editable": true
   },
   "source": [
    "### Flatten Layer\n",
    "Implement the `flatten` function to change the dimension of `x_tensor` from a 4-D tensor to a 2-D tensor.  The output should be the shape (*Batch Size*, *Flattened Image Size*). Shortcut option: you can use classes from the [TensorFlow Layers](https://www.tensorflow.org/api_docs/python/tf/layers) or [TensorFlow Layers (contrib)](https://www.tensorflow.org/api_guides/python/contrib.layers) packages for this layer. For more of a challenge, only use other TensorFlow packages."
   ]
  },
  {
   "cell_type": "code",
   "execution_count": 30,
   "metadata": {
    "collapsed": false,
    "deletable": true,
    "editable": true
   },
   "outputs": [
    {
     "name": "stdout",
     "output_type": "stream",
     "text": [
      "Tests Passed\n"
     ]
    }
   ],
   "source": [
    "def flatten(x_tensor):\n",
    "    \"\"\"\n",
    "    Flatten x_tensor to (Batch Size, Flattened Image Size)\n",
    "    : x_tensor: A tensor of size (Batch Size, ...), where ... are the image dimensions.\n",
    "    : return: A tensor of size (Batch Size, Flattened Image Size).\n",
    "    \"\"\"\n",
    "    # TODO: Implement Function\n",
    "    #shape = tf.shape(x_tensor)\n",
    "    shape = x_tensor.get_shape().as_list()\n",
    "    flat = tf.reshape(x_tensor, [-1, np.prod(shape[1:])])\n",
    "    return flat\n",
    "\n",
    "\n",
    "\"\"\"\n",
    "DON'T MODIFY ANYTHING IN THIS CELL THAT IS BELOW THIS LINE\n",
    "\"\"\"\n",
    "tests.test_flatten(flatten)"
   ]
  },
  {
   "cell_type": "markdown",
   "metadata": {
    "deletable": true,
    "editable": true
   },
   "source": [
    "### Fully-Connected Layer\n",
    "Implement the `fully_conn` function to apply a fully connected layer to `x_tensor` with the shape (*Batch Size*, *num_outputs*). Shortcut option: you can use classes from the [TensorFlow Layers](https://www.tensorflow.org/api_docs/python/tf/layers) or [TensorFlow Layers (contrib)](https://www.tensorflow.org/api_guides/python/contrib.layers) packages for this layer. For more of a challenge, only use other TensorFlow packages."
   ]
  },
  {
   "cell_type": "code",
   "execution_count": 31,
   "metadata": {
    "collapsed": false,
    "deletable": true,
    "editable": true
   },
   "outputs": [
    {
     "name": "stdout",
     "output_type": "stream",
     "text": [
      "Tests Passed\n"
     ]
    }
   ],
   "source": [
    "def fully_conn(x_tensor, num_outputs):\n",
    "    \"\"\"\n",
    "    Apply a fully connected layer to x_tensor using weight and bias\n",
    "    : x_tensor: A 2-D tensor where the first dimension is batch size.\n",
    "    : num_outputs: The number of output that the new tensor should be.\n",
    "    : return: A 2-D tensor where the second dimension is num_outputs.\n",
    "    \"\"\"\n",
    "    # TODO: Implement Function\n",
    "    weights = tf.Variable(tf.truncated_normal([x_tensor.shape[1].value, num_outputs], mean=0.0, stddev=0.1))\n",
    "    bias = tf.Variable(tf.zeros(num_outputs))\n",
    "\n",
    "    layer = tf.matmul(x_tensor, weights)\n",
    "    layer = tf.nn.bias_add(layer, bias)\n",
    "    layer = tf.nn.relu(layer)\n",
    "\n",
    "    return layer\n",
    "\n",
    "\n",
    "\"\"\"\n",
    "DON'T MODIFY ANYTHING IN THIS CELL THAT IS BELOW THIS LINE\n",
    "\"\"\"\n",
    "tests.test_fully_conn(fully_conn)"
   ]
  },
  {
   "cell_type": "markdown",
   "metadata": {
    "deletable": true,
    "editable": true
   },
   "source": [
    "### Output Layer\n",
    "Implement the `output` function to apply a fully connected layer to `x_tensor` with the shape (*Batch Size*, *num_outputs*). Shortcut option: you can use classes from the [TensorFlow Layers](https://www.tensorflow.org/api_docs/python/tf/layers) or [TensorFlow Layers (contrib)](https://www.tensorflow.org/api_guides/python/contrib.layers) packages for this layer. For more of a challenge, only use other TensorFlow packages.\n",
    "\n",
    "**Note:** Activation, softmax, or cross entropy should **not** be applied to this."
   ]
  },
  {
   "cell_type": "code",
   "execution_count": 32,
   "metadata": {
    "collapsed": false,
    "deletable": true,
    "editable": true
   },
   "outputs": [
    {
     "name": "stdout",
     "output_type": "stream",
     "text": [
      "Tests Passed\n"
     ]
    }
   ],
   "source": [
    "def output(x_tensor, num_outputs):\n",
    "    \"\"\"\n",
    "    Apply a output layer to x_tensor using weight and bias\n",
    "    : x_tensor: A 2-D tensor where the first dimension is batch size.\n",
    "    : num_outputs: The number of output that the new tensor should be.\n",
    "    : return: A 2-D tensor where the second dimension is num_outputs.\n",
    "    \"\"\"\n",
    "    # TODO: Implement Function\n",
    "    weights = tf.Variable(tf.truncated_normal([x_tensor.shape[1].value, num_outputs], mean=0.0, stddev=0.1))\n",
    "    bias = tf.Variable(tf.zeros(num_outputs))\n",
    "\n",
    "    layer = tf.matmul(x_tensor, weights)\n",
    "    layer = tf.nn.bias_add(layer, bias)\n",
    "    \n",
    "    return layer\n",
    "\n",
    "\n",
    "\"\"\"\n",
    "DON'T MODIFY ANYTHING IN THIS CELL THAT IS BELOW THIS LINE\n",
    "\"\"\"\n",
    "tests.test_output(output)"
   ]
  },
  {
   "cell_type": "markdown",
   "metadata": {
    "deletable": true,
    "editable": true
   },
   "source": [
    "### Create Convolutional Model\n",
    "Implement the function `conv_net` to create a convolutional neural network model. The function takes in a batch of images, `x`, and outputs logits.  Use the layers you created above to create this model:\n",
    "\n",
    "* Apply 1, 2, or 3 Convolution and Max Pool layers\n",
    "* Apply a Flatten Layer\n",
    "* Apply 1, 2, or 3 Fully Connected Layers\n",
    "* Apply an Output Layer\n",
    "* Return the output\n",
    "* Apply [TensorFlow's Dropout](https://www.tensorflow.org/api_docs/python/tf/nn/dropout) to one or more layers in the model using `keep_prob`. "
   ]
  },
  {
   "cell_type": "code",
   "execution_count": 81,
   "metadata": {
    "collapsed": false,
    "deletable": true,
    "editable": true
   },
   "outputs": [
    {
     "name": "stdout",
     "output_type": "stream",
     "text": [
      "Neural Network Built!\n"
     ]
    }
   ],
   "source": [
    "def conv_net(x, keep_prob):\n",
    "    \"\"\"\n",
    "    Create a convolutional neural network model\n",
    "    : x: Placeholder tensor that holds image data.\n",
    "    : keep_prob: Placeholder tensor that hold dropout keep probability.\n",
    "    : return: Tensor that represents logits\n",
    "    \"\"\"\n",
    "    # TODO: Apply 1, 2, or 3 Convolution and Max Pool layers\n",
    "    #    Play around with different number of outputs, kernel size and stride\n",
    "    # Function Definition from Above:\n",
    "    #    conv2d_maxpool(x_tensor, conv_num_outputs, conv_ksize, conv_strides, pool_ksize, pool_strides)\n",
    "    conv_ksize = [4, 4]\n",
    "    conv_strides = [1, 1]\n",
    "    pool_ksize = [2, 2]\n",
    "    pool_strides = [2, 2]\n",
    "    layer_conv_1 = conv2d_maxpool(x, 16, conv_ksize, conv_strides, pool_ksize, pool_strides)\n",
    "    layer_conv_2 = conv2d_maxpool(layer_conv_1, 32, conv_ksize, conv_strides, pool_ksize, pool_strides)\n",
    "    layer_conv_3 = conv2d_maxpool(layer_conv_2, 64, conv_ksize, conv_strides, pool_ksize, pool_strides)\n",
    "\n",
    "    # TODO: Apply a Flatten Layer\n",
    "    # Function Definition from Above:\n",
    "    #   flatten(x_tensor)\n",
    "    flat = flatten(layer_conv_3)\n",
    "\n",
    "    # TODO: Apply 1, 2, or 3 Fully Connected Layers\n",
    "    #    Play around with different number of outputs\n",
    "    # Function Definition from Above:\n",
    "    #   fully_conn(x_tensor, num_outputs)\n",
    "    layer_conn_1 = fully_conn(flat, 1024)\n",
    "    layer_conn_1 = tf.nn.dropout(layer_conn_1, keep_prob)\n",
    "    layer_conn_2 = fully_conn(layer_conn_1, 128)\n",
    "    \n",
    "    \n",
    "    # TODO: Apply an Output Layer\n",
    "    #    Set this to the number of classes\n",
    "    # Function Definition from Above:\n",
    "    #   output(x_tensor, num_outputs)\n",
    "    res = output(layer_conn_2, 10)\n",
    "    \n",
    "    # TODO: return output\n",
    "    return res\n",
    "\n",
    "\n",
    "\"\"\"\n",
    "DON'T MODIFY ANYTHING IN THIS CELL THAT IS BELOW THIS LINE\n",
    "\"\"\"\n",
    "\n",
    "##############################\n",
    "## Build the Neural Network ##\n",
    "##############################\n",
    "\n",
    "# Remove previous weights, bias, inputs, etc..\n",
    "tf.reset_default_graph()\n",
    "\n",
    "# Inputs\n",
    "x = neural_net_image_input((32, 32, 3))\n",
    "y = neural_net_label_input(10)\n",
    "keep_prob = neural_net_keep_prob_input()\n",
    "\n",
    "# Model\n",
    "logits = conv_net(x, keep_prob)\n",
    "\n",
    "# Name logits Tensor, so that is can be loaded from disk after training\n",
    "logits = tf.identity(logits, name='logits')\n",
    "\n",
    "# Loss and Optimizer\n",
    "cost = tf.reduce_mean(tf.nn.softmax_cross_entropy_with_logits(logits=logits, labels=y))\n",
    "optimizer = tf.train.AdamOptimizer().minimize(cost)\n",
    "\n",
    "# Accuracy\n",
    "correct_pred = tf.equal(tf.argmax(logits, 1), tf.argmax(y, 1))\n",
    "accuracy = tf.reduce_mean(tf.cast(correct_pred, tf.float32), name='accuracy')\n",
    "\n",
    "tests.test_conv_net(conv_net)"
   ]
  },
  {
   "cell_type": "markdown",
   "metadata": {
    "deletable": true,
    "editable": true
   },
   "source": [
    "## Train the Neural Network\n",
    "### Single Optimization\n",
    "Implement the function `train_neural_network` to do a single optimization.  The optimization should use `optimizer` to optimize in `session` with a `feed_dict` of the following:\n",
    "* `x` for image input\n",
    "* `y` for labels\n",
    "* `keep_prob` for keep probability for dropout\n",
    "\n",
    "This function will be called for each batch, so `tf.global_variables_initializer()` has already been called.\n",
    "\n",
    "Note: Nothing needs to be returned. This function is only optimizing the neural network."
   ]
  },
  {
   "cell_type": "code",
   "execution_count": 82,
   "metadata": {
    "collapsed": false,
    "deletable": true,
    "editable": true
   },
   "outputs": [
    {
     "name": "stdout",
     "output_type": "stream",
     "text": [
      "Tests Passed\n"
     ]
    }
   ],
   "source": [
    "def train_neural_network(session, optimizer, keep_probability, feature_batch, label_batch):\n",
    "    \"\"\"\n",
    "    Optimize the session on a batch of images and labels\n",
    "    : session: Current TensorFlow session\n",
    "    : optimizer: TensorFlow optimizer function\n",
    "    : keep_probability: keep probability\n",
    "    : feature_batch: Batch of Numpy image data\n",
    "    : label_batch: Batch of Numpy label data\n",
    "    \"\"\"\n",
    "    # TODO: Implement Function\n",
    "    session.run(optimizer, feed_dict={\n",
    "        x: feature_batch, \n",
    "        y: label_batch, \n",
    "        keep_prob: keep_probability})\n",
    "\n",
    "\n",
    "\"\"\"\n",
    "DON'T MODIFY ANYTHING IN THIS CELL THAT IS BELOW THIS LINE\n",
    "\"\"\"\n",
    "tests.test_train_nn(train_neural_network)"
   ]
  },
  {
   "cell_type": "markdown",
   "metadata": {
    "deletable": true,
    "editable": true
   },
   "source": [
    "### Show Stats\n",
    "Implement the function `print_stats` to print loss and validation accuracy.  Use the global variables `valid_features` and `valid_labels` to calculate validation accuracy.  Use a keep probability of `1.0` to calculate the loss and validation accuracy."
   ]
  },
  {
   "cell_type": "code",
   "execution_count": 83,
   "metadata": {
    "collapsed": false,
    "deletable": true,
    "editable": true
   },
   "outputs": [],
   "source": [
    "def print_stats(session, feature_batch, label_batch, cost, accuracy):\n",
    "    \"\"\"\n",
    "    Print information about loss and validation accuracy\n",
    "    : session: Current TensorFlow session\n",
    "    : feature_batch: Batch of Numpy image data\n",
    "    : label_batch: Batch of Numpy label data\n",
    "    : cost: TensorFlow cost function\n",
    "    : accuracy: TensorFlow accuracy function\n",
    "    \"\"\"\n",
    "    # TODO: Implement Function\n",
    "    loss = session.run(cost, feed_dict={x: feature_batch, y: label_batch, keep_prob: 1.0})\n",
    "    validation_accuracy = session.run(accuracy, feed_dict={x: valid_features, y: valid_labels, keep_prob: 1.0})\n",
    "    print('Loss: {:.6f} Validation Accuracy: {:.3f}'.format(loss, validation_accuracy))"
   ]
  },
  {
   "cell_type": "markdown",
   "metadata": {
    "deletable": true,
    "editable": true
   },
   "source": [
    "### Hyperparameters\n",
    "Tune the following parameters:\n",
    "* Set `epochs` to the number of iterations until the network stops learning or start overfitting\n",
    "* Set `batch_size` to the highest number that your machine has memory for.  Most people set them to common sizes of memory:\n",
    " * 64\n",
    " * 128\n",
    " * 256\n",
    " * ...\n",
    "* Set `keep_probability` to the probability of keeping a node using dropout"
   ]
  },
  {
   "cell_type": "code",
   "execution_count": 84,
   "metadata": {
    "collapsed": true,
    "deletable": true,
    "editable": true
   },
   "outputs": [],
   "source": [
    "# TODO: Tune Parameters\n",
    "epochs = 50\n",
    "batch_size = 128\n",
    "keep_probability = 0.75"
   ]
  },
  {
   "cell_type": "markdown",
   "metadata": {
    "deletable": true,
    "editable": true
   },
   "source": [
    "### Train on a Single CIFAR-10 Batch\n",
    "Instead of training the neural network on all the CIFAR-10 batches of data, let's use a single batch. This should save time while you iterate on the model to get a better accuracy.  Once the final validation accuracy is 50% or greater, run the model on all the data in the next section."
   ]
  },
  {
   "cell_type": "code",
   "execution_count": 85,
   "metadata": {
    "collapsed": false,
    "deletable": true,
    "editable": true
   },
   "outputs": [
    {
     "name": "stdout",
     "output_type": "stream",
     "text": [
      "Checking the Training on a Single Batch...\n",
      "Epoch  1, CIFAR-10 Batch 1:  Loss: 1.953566 Validation Accuracy: 0.347\n",
      "Epoch  2, CIFAR-10 Batch 1:  Loss: 1.627910 Validation Accuracy: 0.429\n",
      "Epoch  3, CIFAR-10 Batch 1:  Loss: 1.420879 Validation Accuracy: 0.482\n",
      "Epoch  4, CIFAR-10 Batch 1:  Loss: 1.185551 Validation Accuracy: 0.509\n",
      "Epoch  5, CIFAR-10 Batch 1:  Loss: 0.997048 Validation Accuracy: 0.516\n",
      "Epoch  6, CIFAR-10 Batch 1:  Loss: 0.908024 Validation Accuracy: 0.528\n",
      "Epoch  7, CIFAR-10 Batch 1:  Loss: 0.788704 Validation Accuracy: 0.534\n",
      "Epoch  8, CIFAR-10 Batch 1:  Loss: 0.540068 Validation Accuracy: 0.558\n",
      "Epoch  9, CIFAR-10 Batch 1:  Loss: 0.410127 Validation Accuracy: 0.579\n",
      "Epoch 10, CIFAR-10 Batch 1:  Loss: 0.283539 Validation Accuracy: 0.564\n",
      "Epoch 11, CIFAR-10 Batch 1:  Loss: 0.185224 Validation Accuracy: 0.571\n",
      "Epoch 12, CIFAR-10 Batch 1:  Loss: 0.173182 Validation Accuracy: 0.552\n",
      "Epoch 13, CIFAR-10 Batch 1:  Loss: 0.118347 Validation Accuracy: 0.563\n",
      "Epoch 14, CIFAR-10 Batch 1:  Loss: 0.077480 Validation Accuracy: 0.566\n",
      "Epoch 15, CIFAR-10 Batch 1:  Loss: 0.116820 Validation Accuracy: 0.552\n",
      "Epoch 16, CIFAR-10 Batch 1:  Loss: 0.058405 Validation Accuracy: 0.560\n",
      "Epoch 17, CIFAR-10 Batch 1:  Loss: 0.039807 Validation Accuracy: 0.540\n",
      "Epoch 18, CIFAR-10 Batch 1:  Loss: 0.027829 Validation Accuracy: 0.558\n",
      "Epoch 19, CIFAR-10 Batch 1:  Loss: 0.021894 Validation Accuracy: 0.565\n",
      "Epoch 20, CIFAR-10 Batch 1:  Loss: 0.021407 Validation Accuracy: 0.554\n",
      "Epoch 21, CIFAR-10 Batch 1:  Loss: 0.035017 Validation Accuracy: 0.553\n",
      "Epoch 22, CIFAR-10 Batch 1:  Loss: 0.017243 Validation Accuracy: 0.579\n",
      "Epoch 23, CIFAR-10 Batch 1:  Loss: 0.012413 Validation Accuracy: 0.561\n",
      "Epoch 24, CIFAR-10 Batch 1:  Loss: 0.006710 Validation Accuracy: 0.558\n",
      "Epoch 25, CIFAR-10 Batch 1:  Loss: 0.006437 Validation Accuracy: 0.548\n",
      "Epoch 26, CIFAR-10 Batch 1:  Loss: 0.009141 Validation Accuracy: 0.526\n",
      "Epoch 27, CIFAR-10 Batch 1:  Loss: 0.005788 Validation Accuracy: 0.528\n",
      "Epoch 28, CIFAR-10 Batch 1:  Loss: 0.005048 Validation Accuracy: 0.558\n",
      "Epoch 29, CIFAR-10 Batch 1:  Loss: 0.009812 Validation Accuracy: 0.567\n",
      "Epoch 30, CIFAR-10 Batch 1:  Loss: 0.002813 Validation Accuracy: 0.576\n",
      "Epoch 31, CIFAR-10 Batch 1:  Loss: 0.003245 Validation Accuracy: 0.565\n",
      "Epoch 32, CIFAR-10 Batch 1:  Loss: 0.003109 Validation Accuracy: 0.574\n",
      "Epoch 33, CIFAR-10 Batch 1:  Loss: 0.001983 Validation Accuracy: 0.574\n",
      "Epoch 34, CIFAR-10 Batch 1:  Loss: 0.000702 Validation Accuracy: 0.578\n",
      "Epoch 35, CIFAR-10 Batch 1:  Loss: 0.001899 Validation Accuracy: 0.584\n",
      "Epoch 36, CIFAR-10 Batch 1:  Loss: 0.000285 Validation Accuracy: 0.585\n",
      "Epoch 37, CIFAR-10 Batch 1:  Loss: 0.001588 Validation Accuracy: 0.590\n",
      "Epoch 38, CIFAR-10 Batch 1:  Loss: 0.001805 Validation Accuracy: 0.588\n",
      "Epoch 39, CIFAR-10 Batch 1:  Loss: 0.001055 Validation Accuracy: 0.584\n",
      "Epoch 40, CIFAR-10 Batch 1:  Loss: 0.000132 Validation Accuracy: 0.584\n",
      "Epoch 41, CIFAR-10 Batch 1:  Loss: 0.001103 Validation Accuracy: 0.580\n",
      "Epoch 42, CIFAR-10 Batch 1:  Loss: 0.002898 Validation Accuracy: 0.576\n",
      "Epoch 43, CIFAR-10 Batch 1:  Loss: 0.000181 Validation Accuracy: 0.580\n",
      "Epoch 44, CIFAR-10 Batch 1:  Loss: 0.000967 Validation Accuracy: 0.581\n",
      "Epoch 45, CIFAR-10 Batch 1:  Loss: 0.000847 Validation Accuracy: 0.584\n",
      "Epoch 46, CIFAR-10 Batch 1:  Loss: 0.001232 Validation Accuracy: 0.580\n",
      "Epoch 47, CIFAR-10 Batch 1:  Loss: 0.001416 Validation Accuracy: 0.573\n",
      "Epoch 48, CIFAR-10 Batch 1:  Loss: 0.000571 Validation Accuracy: 0.575\n",
      "Epoch 49, CIFAR-10 Batch 1:  Loss: 0.001822 Validation Accuracy: 0.577\n",
      "Epoch 50, CIFAR-10 Batch 1:  Loss: 0.000200 Validation Accuracy: 0.582\n"
     ]
    }
   ],
   "source": [
    "\"\"\"\n",
    "DON'T MODIFY ANYTHING IN THIS CELL\n",
    "\"\"\"\n",
    "print('Checking the Training on a Single Batch...')\n",
    "with tf.Session() as sess:\n",
    "    # Initializing the variables\n",
    "    sess.run(tf.global_variables_initializer())\n",
    "    \n",
    "    # Training cycle\n",
    "    for epoch in range(epochs):\n",
    "        batch_i = 1\n",
    "        for batch_features, batch_labels in helper.load_preprocess_training_batch(batch_i, batch_size):\n",
    "            train_neural_network(sess, optimizer, keep_probability, batch_features, batch_labels)\n",
    "        print('Epoch {:>2}, CIFAR-10 Batch {}:  '.format(epoch + 1, batch_i), end='')\n",
    "        print_stats(sess, batch_features, batch_labels, cost, accuracy)"
   ]
  },
  {
   "cell_type": "markdown",
   "metadata": {
    "deletable": true,
    "editable": true
   },
   "source": [
    "### Fully Train the Model\n",
    "Now that you got a good accuracy with a single CIFAR-10 batch, try it with all five batches."
   ]
  },
  {
   "cell_type": "code",
   "execution_count": 86,
   "metadata": {
    "collapsed": false,
    "deletable": true,
    "editable": true
   },
   "outputs": [
    {
     "name": "stdout",
     "output_type": "stream",
     "text": [
      "Training...\n",
      "Epoch  1, CIFAR-10 Batch 1:  Loss: 1.931239 Validation Accuracy: 0.369\n",
      "Epoch  1, CIFAR-10 Batch 2:  Loss: 1.615599 Validation Accuracy: 0.433\n",
      "Epoch  1, CIFAR-10 Batch 3:  Loss: 1.274976 Validation Accuracy: 0.487\n",
      "Epoch  1, CIFAR-10 Batch 4:  Loss: 1.288609 Validation Accuracy: 0.509\n",
      "Epoch  1, CIFAR-10 Batch 5:  Loss: 1.273744 Validation Accuracy: 0.544\n",
      "Epoch  2, CIFAR-10 Batch 1:  Loss: 1.309968 Validation Accuracy: 0.541\n",
      "Epoch  2, CIFAR-10 Batch 2:  Loss: 1.196690 Validation Accuracy: 0.553\n",
      "Epoch  2, CIFAR-10 Batch 3:  Loss: 1.000294 Validation Accuracy: 0.560\n",
      "Epoch  2, CIFAR-10 Batch 4:  Loss: 0.930870 Validation Accuracy: 0.584\n",
      "Epoch  2, CIFAR-10 Batch 5:  Loss: 0.931681 Validation Accuracy: 0.593\n",
      "Epoch  3, CIFAR-10 Batch 1:  Loss: 1.043181 Validation Accuracy: 0.583\n",
      "Epoch  3, CIFAR-10 Batch 2:  Loss: 0.858169 Validation Accuracy: 0.611\n",
      "Epoch  3, CIFAR-10 Batch 3:  Loss: 0.747289 Validation Accuracy: 0.612\n",
      "Epoch  3, CIFAR-10 Batch 4:  Loss: 0.697352 Validation Accuracy: 0.630\n",
      "Epoch  3, CIFAR-10 Batch 5:  Loss: 0.660129 Validation Accuracy: 0.622\n",
      "Epoch  4, CIFAR-10 Batch 1:  Loss: 0.769066 Validation Accuracy: 0.640\n",
      "Epoch  4, CIFAR-10 Batch 2:  Loss: 0.584080 Validation Accuracy: 0.636\n",
      "Epoch  4, CIFAR-10 Batch 3:  Loss: 0.501761 Validation Accuracy: 0.644\n",
      "Epoch  4, CIFAR-10 Batch 4:  Loss: 0.514979 Validation Accuracy: 0.646\n",
      "Epoch  4, CIFAR-10 Batch 5:  Loss: 0.409418 Validation Accuracy: 0.643\n",
      "Epoch  5, CIFAR-10 Batch 1:  Loss: 0.535762 Validation Accuracy: 0.656\n",
      "Epoch  5, CIFAR-10 Batch 2:  Loss: 0.442483 Validation Accuracy: 0.643\n",
      "Epoch  5, CIFAR-10 Batch 3:  Loss: 0.340545 Validation Accuracy: 0.659\n",
      "Epoch  5, CIFAR-10 Batch 4:  Loss: 0.324182 Validation Accuracy: 0.660\n",
      "Epoch  5, CIFAR-10 Batch 5:  Loss: 0.268614 Validation Accuracy: 0.655\n",
      "Epoch  6, CIFAR-10 Batch 1:  Loss: 0.350636 Validation Accuracy: 0.667\n",
      "Epoch  6, CIFAR-10 Batch 2:  Loss: 0.357859 Validation Accuracy: 0.647\n",
      "Epoch  6, CIFAR-10 Batch 3:  Loss: 0.248487 Validation Accuracy: 0.667\n",
      "Epoch  6, CIFAR-10 Batch 4:  Loss: 0.202224 Validation Accuracy: 0.662\n",
      "Epoch  6, CIFAR-10 Batch 5:  Loss: 0.180189 Validation Accuracy: 0.675\n",
      "Epoch  7, CIFAR-10 Batch 1:  Loss: 0.208319 Validation Accuracy: 0.668\n",
      "Epoch  7, CIFAR-10 Batch 2:  Loss: 0.255909 Validation Accuracy: 0.648\n",
      "Epoch  7, CIFAR-10 Batch 3:  Loss: 0.215533 Validation Accuracy: 0.657\n",
      "Epoch  7, CIFAR-10 Batch 4:  Loss: 0.193660 Validation Accuracy: 0.659\n",
      "Epoch  7, CIFAR-10 Batch 5:  Loss: 0.128604 Validation Accuracy: 0.674\n",
      "Epoch  8, CIFAR-10 Batch 1:  Loss: 0.130122 Validation Accuracy: 0.671\n",
      "Epoch  8, CIFAR-10 Batch 2:  Loss: 0.164128 Validation Accuracy: 0.674\n",
      "Epoch  8, CIFAR-10 Batch 3:  Loss: 0.134819 Validation Accuracy: 0.665\n",
      "Epoch  8, CIFAR-10 Batch 4:  Loss: 0.148956 Validation Accuracy: 0.663\n",
      "Epoch  8, CIFAR-10 Batch 5:  Loss: 0.114998 Validation Accuracy: 0.655\n",
      "Epoch  9, CIFAR-10 Batch 1:  Loss: 0.120579 Validation Accuracy: 0.672\n",
      "Epoch  9, CIFAR-10 Batch 2:  Loss: 0.129472 Validation Accuracy: 0.665\n",
      "Epoch  9, CIFAR-10 Batch 3:  Loss: 0.098755 Validation Accuracy: 0.673\n",
      "Epoch  9, CIFAR-10 Batch 4:  Loss: 0.067413 Validation Accuracy: 0.661\n",
      "Epoch  9, CIFAR-10 Batch 5:  Loss: 0.092609 Validation Accuracy: 0.677\n",
      "Epoch 10, CIFAR-10 Batch 1:  Loss: 0.066971 Validation Accuracy: 0.673\n",
      "Epoch 10, CIFAR-10 Batch 2:  Loss: 0.069043 Validation Accuracy: 0.655\n",
      "Epoch 10, CIFAR-10 Batch 3:  Loss: 0.067153 Validation Accuracy: 0.664\n",
      "Epoch 10, CIFAR-10 Batch 4:  Loss: 0.069985 Validation Accuracy: 0.660\n",
      "Epoch 10, CIFAR-10 Batch 5:  Loss: 0.047805 Validation Accuracy: 0.677\n",
      "Epoch 11, CIFAR-10 Batch 1:  Loss: 0.083584 Validation Accuracy: 0.659\n",
      "Epoch 11, CIFAR-10 Batch 2:  Loss: 0.058196 Validation Accuracy: 0.643\n",
      "Epoch 11, CIFAR-10 Batch 3:  Loss: 0.032331 Validation Accuracy: 0.666\n",
      "Epoch 11, CIFAR-10 Batch 4:  Loss: 0.029229 Validation Accuracy: 0.671\n",
      "Epoch 11, CIFAR-10 Batch 5:  Loss: 0.043949 Validation Accuracy: 0.679\n",
      "Epoch 12, CIFAR-10 Batch 1:  Loss: 0.034547 Validation Accuracy: 0.656\n",
      "Epoch 12, CIFAR-10 Batch 2:  Loss: 0.050104 Validation Accuracy: 0.667\n",
      "Epoch 12, CIFAR-10 Batch 3:  Loss: 0.096233 Validation Accuracy: 0.641\n",
      "Epoch 12, CIFAR-10 Batch 4:  Loss: 0.051597 Validation Accuracy: 0.668\n",
      "Epoch 12, CIFAR-10 Batch 5:  Loss: 0.044625 Validation Accuracy: 0.657\n",
      "Epoch 13, CIFAR-10 Batch 1:  Loss: 0.040915 Validation Accuracy: 0.666\n",
      "Epoch 13, CIFAR-10 Batch 2:  Loss: 0.029104 Validation Accuracy: 0.672\n",
      "Epoch 13, CIFAR-10 Batch 3:  Loss: 0.023878 Validation Accuracy: 0.675\n",
      "Epoch 13, CIFAR-10 Batch 4:  Loss: 0.047378 Validation Accuracy: 0.655\n",
      "Epoch 13, CIFAR-10 Batch 5:  Loss: 0.024404 Validation Accuracy: 0.677\n",
      "Epoch 14, CIFAR-10 Batch 1:  Loss: 0.028008 Validation Accuracy: 0.659\n",
      "Epoch 14, CIFAR-10 Batch 2:  Loss: 0.020452 Validation Accuracy: 0.662\n",
      "Epoch 14, CIFAR-10 Batch 3:  Loss: 0.019568 Validation Accuracy: 0.666\n",
      "Epoch 14, CIFAR-10 Batch 4:  Loss: 0.025892 Validation Accuracy: 0.658\n",
      "Epoch 14, CIFAR-10 Batch 5:  Loss: 0.012512 Validation Accuracy: 0.689\n",
      "Epoch 15, CIFAR-10 Batch 1:  Loss: 0.026106 Validation Accuracy: 0.666\n",
      "Epoch 15, CIFAR-10 Batch 2:  Loss: 0.014671 Validation Accuracy: 0.658\n",
      "Epoch 15, CIFAR-10 Batch 3:  Loss: 0.007833 Validation Accuracy: 0.672\n",
      "Epoch 15, CIFAR-10 Batch 4:  Loss: 0.017368 Validation Accuracy: 0.661\n",
      "Epoch 15, CIFAR-10 Batch 5:  Loss: 0.016811 Validation Accuracy: 0.687\n",
      "Epoch 16, CIFAR-10 Batch 1:  Loss: 0.018218 Validation Accuracy: 0.665\n",
      "Epoch 16, CIFAR-10 Batch 2:  Loss: 0.010706 Validation Accuracy: 0.675\n",
      "Epoch 16, CIFAR-10 Batch 3:  Loss: 0.040502 Validation Accuracy: 0.681\n",
      "Epoch 16, CIFAR-10 Batch 4:  Loss: 0.024384 Validation Accuracy: 0.669\n",
      "Epoch 16, CIFAR-10 Batch 5:  Loss: 0.017515 Validation Accuracy: 0.672\n",
      "Epoch 17, CIFAR-10 Batch 1:  Loss: 0.009856 Validation Accuracy: 0.677\n",
      "Epoch 17, CIFAR-10 Batch 2:  Loss: 0.009472 Validation Accuracy: 0.663\n",
      "Epoch 17, CIFAR-10 Batch 3:  Loss: 0.009744 Validation Accuracy: 0.669\n",
      "Epoch 17, CIFAR-10 Batch 4:  Loss: 0.028636 Validation Accuracy: 0.682\n",
      "Epoch 17, CIFAR-10 Batch 5:  Loss: 0.002892 Validation Accuracy: 0.676\n",
      "Epoch 18, CIFAR-10 Batch 1:  Loss: 0.007852 Validation Accuracy: 0.668\n",
      "Epoch 18, CIFAR-10 Batch 2:  Loss: 0.018937 Validation Accuracy: 0.660\n",
      "Epoch 18, CIFAR-10 Batch 3:  Loss: 0.011072 Validation Accuracy: 0.676\n",
      "Epoch 18, CIFAR-10 Batch 4:  Loss: 0.017480 Validation Accuracy: 0.676\n",
      "Epoch 18, CIFAR-10 Batch 5:  Loss: 0.007068 Validation Accuracy: 0.656\n",
      "Epoch 19, CIFAR-10 Batch 1:  Loss: 0.005009 Validation Accuracy: 0.671\n",
      "Epoch 19, CIFAR-10 Batch 2:  Loss: 0.004310 Validation Accuracy: 0.658\n",
      "Epoch 19, CIFAR-10 Batch 3:  Loss: 0.011760 Validation Accuracy: 0.678\n",
      "Epoch 19, CIFAR-10 Batch 4:  Loss: 0.002652 Validation Accuracy: 0.678\n",
      "Epoch 19, CIFAR-10 Batch 5:  Loss: 0.007255 Validation Accuracy: 0.668\n",
      "Epoch 20, CIFAR-10 Batch 1:  Loss: 0.007563 Validation Accuracy: 0.675\n",
      "Epoch 20, CIFAR-10 Batch 2:  Loss: 0.002615 Validation Accuracy: 0.655\n",
      "Epoch 20, CIFAR-10 Batch 3:  Loss: 0.008985 Validation Accuracy: 0.688\n",
      "Epoch 20, CIFAR-10 Batch 4:  Loss: 0.003281 Validation Accuracy: 0.675\n",
      "Epoch 20, CIFAR-10 Batch 5:  Loss: 0.003578 Validation Accuracy: 0.669\n",
      "Epoch 21, CIFAR-10 Batch 1:  Loss: 0.003009 Validation Accuracy: 0.664\n",
      "Epoch 21, CIFAR-10 Batch 2:  Loss: 0.002199 Validation Accuracy: 0.659\n",
      "Epoch 21, CIFAR-10 Batch 3:  Loss: 0.010155 Validation Accuracy: 0.685\n",
      "Epoch 21, CIFAR-10 Batch 4:  Loss: 0.001163 Validation Accuracy: 0.674\n",
      "Epoch 21, CIFAR-10 Batch 5:  Loss: 0.026786 Validation Accuracy: 0.681\n",
      "Epoch 22, CIFAR-10 Batch 1:  Loss: 0.002599 Validation Accuracy: 0.677\n",
      "Epoch 22, CIFAR-10 Batch 2:  Loss: 0.002583 Validation Accuracy: 0.662\n",
      "Epoch 22, CIFAR-10 Batch 3:  Loss: 0.001514 Validation Accuracy: 0.669\n",
      "Epoch 22, CIFAR-10 Batch 4:  Loss: 0.002109 Validation Accuracy: 0.672\n",
      "Epoch 22, CIFAR-10 Batch 5:  Loss: 0.005502 Validation Accuracy: 0.668\n",
      "Epoch 23, CIFAR-10 Batch 1:  Loss: 0.002019 Validation Accuracy: 0.676\n",
      "Epoch 23, CIFAR-10 Batch 2:  Loss: 0.006160 Validation Accuracy: 0.636\n",
      "Epoch 23, CIFAR-10 Batch 3:  Loss: 0.001314 Validation Accuracy: 0.682\n",
      "Epoch 23, CIFAR-10 Batch 4:  Loss: 0.004536 Validation Accuracy: 0.678\n",
      "Epoch 23, CIFAR-10 Batch 5:  Loss: 0.010359 Validation Accuracy: 0.667\n",
      "Epoch 24, CIFAR-10 Batch 1:  Loss: 0.004508 Validation Accuracy: 0.672\n",
      "Epoch 24, CIFAR-10 Batch 2:  Loss: 0.004046 Validation Accuracy: 0.656\n",
      "Epoch 24, CIFAR-10 Batch 3:  Loss: 0.002819 Validation Accuracy: 0.673\n",
      "Epoch 24, CIFAR-10 Batch 4:  Loss: 0.003233 Validation Accuracy: 0.675\n",
      "Epoch 24, CIFAR-10 Batch 5:  Loss: 0.005553 Validation Accuracy: 0.688\n",
      "Epoch 25, CIFAR-10 Batch 1:  Loss: 0.004096 Validation Accuracy: 0.670\n",
      "Epoch 25, CIFAR-10 Batch 2:  Loss: 0.007241 Validation Accuracy: 0.643\n",
      "Epoch 25, CIFAR-10 Batch 3:  Loss: 0.008319 Validation Accuracy: 0.660\n",
      "Epoch 25, CIFAR-10 Batch 4:  Loss: 0.001060 Validation Accuracy: 0.680\n",
      "Epoch 25, CIFAR-10 Batch 5:  Loss: 0.003475 Validation Accuracy: 0.680\n",
      "Epoch 26, CIFAR-10 Batch 1:  Loss: 0.003031 Validation Accuracy: 0.672\n",
      "Epoch 26, CIFAR-10 Batch 2:  Loss: 0.000674 Validation Accuracy: 0.659\n",
      "Epoch 26, CIFAR-10 Batch 3:  Loss: 0.004281 Validation Accuracy: 0.671\n",
      "Epoch 26, CIFAR-10 Batch 4:  Loss: 0.004024 Validation Accuracy: 0.683\n",
      "Epoch 26, CIFAR-10 Batch 5:  Loss: 0.000375 Validation Accuracy: 0.689\n",
      "Epoch 27, CIFAR-10 Batch 1:  Loss: 0.003743 Validation Accuracy: 0.665\n",
      "Epoch 27, CIFAR-10 Batch 2:  Loss: 0.002676 Validation Accuracy: 0.672\n",
      "Epoch 27, CIFAR-10 Batch 3:  Loss: 0.001238 Validation Accuracy: 0.682\n",
      "Epoch 27, CIFAR-10 Batch 4:  Loss: 0.000930 Validation Accuracy: 0.683\n",
      "Epoch 27, CIFAR-10 Batch 5:  Loss: 0.007652 Validation Accuracy: 0.679\n",
      "Epoch 28, CIFAR-10 Batch 1:  Loss: 0.000821 Validation Accuracy: 0.680\n",
      "Epoch 28, CIFAR-10 Batch 2:  Loss: 0.000259 Validation Accuracy: 0.676\n",
      "Epoch 28, CIFAR-10 Batch 3:  Loss: 0.000895 Validation Accuracy: 0.670\n",
      "Epoch 28, CIFAR-10 Batch 4:  Loss: 0.001738 Validation Accuracy: 0.680\n",
      "Epoch 28, CIFAR-10 Batch 5:  Loss: 0.001481 Validation Accuracy: 0.677\n",
      "Epoch 29, CIFAR-10 Batch 1:  Loss: 0.001151 Validation Accuracy: 0.679\n",
      "Epoch 29, CIFAR-10 Batch 2:  Loss: 0.003128 Validation Accuracy: 0.664\n",
      "Epoch 29, CIFAR-10 Batch 3:  Loss: 0.000526 Validation Accuracy: 0.674\n",
      "Epoch 29, CIFAR-10 Batch 4:  Loss: 0.000366 Validation Accuracy: 0.682\n",
      "Epoch 29, CIFAR-10 Batch 5:  Loss: 0.000541 Validation Accuracy: 0.677\n",
      "Epoch 30, CIFAR-10 Batch 1:  Loss: 0.001640 Validation Accuracy: 0.680\n",
      "Epoch 30, CIFAR-10 Batch 2:  Loss: 0.002505 Validation Accuracy: 0.664\n",
      "Epoch 30, CIFAR-10 Batch 3:  Loss: 0.002791 Validation Accuracy: 0.662\n",
      "Epoch 30, CIFAR-10 Batch 4:  Loss: 0.002142 Validation Accuracy: 0.681\n",
      "Epoch 30, CIFAR-10 Batch 5:  Loss: 0.000627 Validation Accuracy: 0.673\n",
      "Epoch 31, CIFAR-10 Batch 1:  Loss: 0.002401 Validation Accuracy: 0.684\n",
      "Epoch 31, CIFAR-10 Batch 2:  Loss: 0.000288 Validation Accuracy: 0.668\n",
      "Epoch 31, CIFAR-10 Batch 3:  Loss: 0.001125 Validation Accuracy: 0.679\n",
      "Epoch 31, CIFAR-10 Batch 4:  Loss: 0.001720 Validation Accuracy: 0.682\n",
      "Epoch 31, CIFAR-10 Batch 5:  Loss: 0.000694 Validation Accuracy: 0.675\n",
      "Epoch 32, CIFAR-10 Batch 1:  Loss: 0.000442 Validation Accuracy: 0.693\n",
      "Epoch 32, CIFAR-10 Batch 2:  Loss: 0.000729 Validation Accuracy: 0.669\n",
      "Epoch 32, CIFAR-10 Batch 3:  Loss: 0.001047 Validation Accuracy: 0.682\n",
      "Epoch 32, CIFAR-10 Batch 4:  Loss: 0.000650 Validation Accuracy: 0.686\n",
      "Epoch 32, CIFAR-10 Batch 5:  Loss: 0.001352 Validation Accuracy: 0.676\n",
      "Epoch 33, CIFAR-10 Batch 1:  Loss: 0.005479 Validation Accuracy: 0.682\n",
      "Epoch 33, CIFAR-10 Batch 2:  Loss: 0.000152 Validation Accuracy: 0.673\n",
      "Epoch 33, CIFAR-10 Batch 3:  Loss: 0.002202 Validation Accuracy: 0.676\n",
      "Epoch 33, CIFAR-10 Batch 4:  Loss: 0.000718 Validation Accuracy: 0.676\n",
      "Epoch 33, CIFAR-10 Batch 5:  Loss: 0.002526 Validation Accuracy: 0.691\n",
      "Epoch 34, CIFAR-10 Batch 1:  Loss: 0.002867 Validation Accuracy: 0.684\n",
      "Epoch 34, CIFAR-10 Batch 2:  Loss: 0.000538 Validation Accuracy: 0.666\n",
      "Epoch 34, CIFAR-10 Batch 3:  Loss: 0.001845 Validation Accuracy: 0.674\n",
      "Epoch 34, CIFAR-10 Batch 4:  Loss: 0.000394 Validation Accuracy: 0.683\n",
      "Epoch 34, CIFAR-10 Batch 5:  Loss: 0.001363 Validation Accuracy: 0.680\n",
      "Epoch 35, CIFAR-10 Batch 1:  Loss: 0.002756 Validation Accuracy: 0.678\n",
      "Epoch 35, CIFAR-10 Batch 2:  Loss: 0.001793 Validation Accuracy: 0.673\n",
      "Epoch 35, CIFAR-10 Batch 3:  Loss: 0.000859 Validation Accuracy: 0.673\n",
      "Epoch 35, CIFAR-10 Batch 4:  Loss: 0.000296 Validation Accuracy: 0.685\n",
      "Epoch 35, CIFAR-10 Batch 5:  Loss: 0.003334 Validation Accuracy: 0.676\n",
      "Epoch 36, CIFAR-10 Batch 1:  Loss: 0.001154 Validation Accuracy: 0.682\n",
      "Epoch 36, CIFAR-10 Batch 2:  Loss: 0.000190 Validation Accuracy: 0.675\n",
      "Epoch 36, CIFAR-10 Batch 3:  Loss: 0.002252 Validation Accuracy: 0.661\n",
      "Epoch 36, CIFAR-10 Batch 4:  Loss: 0.000125 Validation Accuracy: 0.689\n",
      "Epoch 36, CIFAR-10 Batch 5:  Loss: 0.010355 Validation Accuracy: 0.667\n",
      "Epoch 37, CIFAR-10 Batch 1:  Loss: 0.000867 Validation Accuracy: 0.682\n",
      "Epoch 37, CIFAR-10 Batch 2:  Loss: 0.001230 Validation Accuracy: 0.683\n",
      "Epoch 37, CIFAR-10 Batch 3:  Loss: 0.001900 Validation Accuracy: 0.677\n",
      "Epoch 37, CIFAR-10 Batch 4:  Loss: 0.000072 Validation Accuracy: 0.689\n",
      "Epoch 37, CIFAR-10 Batch 5:  Loss: 0.001136 Validation Accuracy: 0.680\n",
      "Epoch 38, CIFAR-10 Batch 1:  Loss: 0.005255 Validation Accuracy: 0.677\n",
      "Epoch 38, CIFAR-10 Batch 2:  Loss: 0.000625 Validation Accuracy: 0.676\n",
      "Epoch 38, CIFAR-10 Batch 3:  Loss: 0.001021 Validation Accuracy: 0.676\n",
      "Epoch 38, CIFAR-10 Batch 4:  Loss: 0.000147 Validation Accuracy: 0.687\n",
      "Epoch 38, CIFAR-10 Batch 5:  Loss: 0.000512 Validation Accuracy: 0.681\n",
      "Epoch 39, CIFAR-10 Batch 1:  Loss: 0.001112 Validation Accuracy: 0.679\n",
      "Epoch 39, CIFAR-10 Batch 2:  Loss: 0.000388 Validation Accuracy: 0.683\n",
      "Epoch 39, CIFAR-10 Batch 3:  Loss: 0.001817 Validation Accuracy: 0.678\n",
      "Epoch 39, CIFAR-10 Batch 4:  Loss: 0.000066 Validation Accuracy: 0.687\n",
      "Epoch 39, CIFAR-10 Batch 5:  Loss: 0.002185 Validation Accuracy: 0.681\n",
      "Epoch 40, CIFAR-10 Batch 1:  Loss: 0.000672 Validation Accuracy: 0.677\n",
      "Epoch 40, CIFAR-10 Batch 2:  Loss: 0.000495 Validation Accuracy: 0.682\n",
      "Epoch 40, CIFAR-10 Batch 3:  Loss: 0.000445 Validation Accuracy: 0.676\n",
      "Epoch 40, CIFAR-10 Batch 4:  Loss: 0.002165 Validation Accuracy: 0.680\n",
      "Epoch 40, CIFAR-10 Batch 5:  Loss: 0.000402 Validation Accuracy: 0.689\n",
      "Epoch 41, CIFAR-10 Batch 1:  Loss: 0.001849 Validation Accuracy: 0.677\n",
      "Epoch 41, CIFAR-10 Batch 2:  Loss: 0.000070 Validation Accuracy: 0.679\n",
      "Epoch 41, CIFAR-10 Batch 3:  Loss: 0.001316 Validation Accuracy: 0.679\n",
      "Epoch 41, CIFAR-10 Batch 4:  Loss: 0.000136 Validation Accuracy: 0.692\n",
      "Epoch 41, CIFAR-10 Batch 5:  Loss: 0.000607 Validation Accuracy: 0.688\n",
      "Epoch 42, CIFAR-10 Batch 1:  Loss: 0.000430 Validation Accuracy: 0.683\n",
      "Epoch 42, CIFAR-10 Batch 2:  Loss: 0.000088 Validation Accuracy: 0.674\n",
      "Epoch 42, CIFAR-10 Batch 3:  Loss: 0.000489 Validation Accuracy: 0.676\n",
      "Epoch 42, CIFAR-10 Batch 4:  Loss: 0.000139 Validation Accuracy: 0.674\n",
      "Epoch 42, CIFAR-10 Batch 5:  Loss: 0.000469 Validation Accuracy: 0.682\n",
      "Epoch 43, CIFAR-10 Batch 1:  Loss: 0.000493 Validation Accuracy: 0.679\n",
      "Epoch 43, CIFAR-10 Batch 2:  Loss: 0.000184 Validation Accuracy: 0.668\n",
      "Epoch 43, CIFAR-10 Batch 3:  Loss: 0.000759 Validation Accuracy: 0.677\n",
      "Epoch 43, CIFAR-10 Batch 4:  Loss: 0.001469 Validation Accuracy: 0.685\n",
      "Epoch 43, CIFAR-10 Batch 5:  Loss: 0.000468 Validation Accuracy: 0.684\n",
      "Epoch 44, CIFAR-10 Batch 1:  Loss: 0.000206 Validation Accuracy: 0.684\n",
      "Epoch 44, CIFAR-10 Batch 2:  Loss: 0.002789 Validation Accuracy: 0.681\n",
      "Epoch 44, CIFAR-10 Batch 3:  Loss: 0.000362 Validation Accuracy: 0.680\n",
      "Epoch 44, CIFAR-10 Batch 4:  Loss: 0.003187 Validation Accuracy: 0.682\n",
      "Epoch 44, CIFAR-10 Batch 5:  Loss: 0.000379 Validation Accuracy: 0.676\n",
      "Epoch 45, CIFAR-10 Batch 1:  Loss: 0.000620 Validation Accuracy: 0.678\n",
      "Epoch 45, CIFAR-10 Batch 2:  Loss: 0.000867 Validation Accuracy: 0.671\n",
      "Epoch 45, CIFAR-10 Batch 3:  Loss: 0.001122 Validation Accuracy: 0.684\n",
      "Epoch 45, CIFAR-10 Batch 4:  Loss: 0.001792 Validation Accuracy: 0.686\n",
      "Epoch 45, CIFAR-10 Batch 5:  Loss: 0.001802 Validation Accuracy: 0.687\n",
      "Epoch 46, CIFAR-10 Batch 1:  Loss: 0.000827 Validation Accuracy: 0.678\n",
      "Epoch 46, CIFAR-10 Batch 2:  Loss: 0.000182 Validation Accuracy: 0.686\n",
      "Epoch 46, CIFAR-10 Batch 3:  Loss: 0.005865 Validation Accuracy: 0.681\n",
      "Epoch 46, CIFAR-10 Batch 4:  Loss: 0.001822 Validation Accuracy: 0.681\n",
      "Epoch 46, CIFAR-10 Batch 5:  Loss: 0.012251 Validation Accuracy: 0.687\n",
      "Epoch 47, CIFAR-10 Batch 1:  Loss: 0.000252 Validation Accuracy: 0.690\n",
      "Epoch 47, CIFAR-10 Batch 2:  Loss: 0.000458 Validation Accuracy: 0.678\n",
      "Epoch 47, CIFAR-10 Batch 3:  Loss: 0.000789 Validation Accuracy: 0.678\n",
      "Epoch 47, CIFAR-10 Batch 4:  Loss: 0.005102 Validation Accuracy: 0.676\n",
      "Epoch 47, CIFAR-10 Batch 5:  Loss: 0.000592 Validation Accuracy: 0.692\n",
      "Epoch 48, CIFAR-10 Batch 1:  Loss: 0.001671 Validation Accuracy: 0.675\n",
      "Epoch 48, CIFAR-10 Batch 2:  Loss: 0.000252 Validation Accuracy: 0.683\n",
      "Epoch 48, CIFAR-10 Batch 3:  Loss: 0.000489 Validation Accuracy: 0.686\n",
      "Epoch 48, CIFAR-10 Batch 4:  Loss: 0.038913 Validation Accuracy: 0.684\n",
      "Epoch 48, CIFAR-10 Batch 5:  Loss: 0.000882 Validation Accuracy: 0.688\n",
      "Epoch 49, CIFAR-10 Batch 1:  Loss: 0.000558 Validation Accuracy: 0.688\n",
      "Epoch 49, CIFAR-10 Batch 2:  Loss: 0.000635 Validation Accuracy: 0.676\n",
      "Epoch 49, CIFAR-10 Batch 3:  Loss: 0.001408 Validation Accuracy: 0.680\n",
      "Epoch 49, CIFAR-10 Batch 4:  Loss: 0.000263 Validation Accuracy: 0.683\n",
      "Epoch 49, CIFAR-10 Batch 5:  Loss: 0.000387 Validation Accuracy: 0.692\n",
      "Epoch 50, CIFAR-10 Batch 1:  Loss: 0.000907 Validation Accuracy: 0.693\n",
      "Epoch 50, CIFAR-10 Batch 2:  Loss: 0.000088 Validation Accuracy: 0.687\n",
      "Epoch 50, CIFAR-10 Batch 3:  Loss: 0.001003 Validation Accuracy: 0.683\n",
      "Epoch 50, CIFAR-10 Batch 4:  Loss: 0.004963 Validation Accuracy: 0.679\n",
      "Epoch 50, CIFAR-10 Batch 5:  Loss: 0.000212 Validation Accuracy: 0.683\n"
     ]
    }
   ],
   "source": [
    "\"\"\"\n",
    "DON'T MODIFY ANYTHING IN THIS CELL\n",
    "\"\"\"\n",
    "save_model_path = './image_classification'\n",
    "\n",
    "print('Training...')\n",
    "with tf.Session() as sess:\n",
    "    # Initializing the variables\n",
    "    sess.run(tf.global_variables_initializer())\n",
    "    \n",
    "    # Training cycle\n",
    "    for epoch in range(epochs):\n",
    "        # Loop over all batches\n",
    "        n_batches = 5\n",
    "        for batch_i in range(1, n_batches + 1):\n",
    "            for batch_features, batch_labels in helper.load_preprocess_training_batch(batch_i, batch_size):\n",
    "                train_neural_network(sess, optimizer, keep_probability, batch_features, batch_labels)\n",
    "            print('Epoch {:>2}, CIFAR-10 Batch {}:  '.format(epoch + 1, batch_i), end='')\n",
    "            print_stats(sess, batch_features, batch_labels, cost, accuracy)\n",
    "            \n",
    "    # Save Model\n",
    "    saver = tf.train.Saver()\n",
    "    save_path = saver.save(sess, save_model_path)"
   ]
  },
  {
   "cell_type": "markdown",
   "metadata": {
    "deletable": true,
    "editable": true
   },
   "source": [
    "# Checkpoint\n",
    "The model has been saved to disk.\n",
    "## Test Model\n",
    "Test your model against the test dataset.  This will be your final accuracy. You should have an accuracy greater than 50%. If you don't, keep tweaking the model architecture and parameters."
   ]
  },
  {
   "cell_type": "code",
   "execution_count": 87,
   "metadata": {
    "collapsed": false,
    "deletable": true,
    "editable": true
   },
   "outputs": [
    {
     "name": "stdout",
     "output_type": "stream",
     "text": [
      "Testing Accuracy: 0.6839398734177216\n",
      "\n"
     ]
    },
    {
     "data": {
      "image/png": "[encoded data removed]",
      "text/plain": [
       "<matplotlib.figure.Figure at 0x7fd1ea77a0b8>"
      ]
     },
     "metadata": {
      "image/png": {
       "height": 319,
       "width": 355
      }
     },
     "output_type": "display_data"
    }
   ],
   "source": [
    "\"\"\"\n",
    "DON'T MODIFY ANYTHING IN THIS CELL\n",
    "\"\"\"\n",
    "%matplotlib inline\n",
    "%config InlineBackend.figure_format = 'retina'\n",
    "\n",
    "import tensorflow as tf\n",
    "import pickle\n",
    "import helper\n",
    "import random\n",
    "\n",
    "# Set batch size if not already set\n",
    "try:\n",
    "    if batch_size:\n",
    "        pass\n",
    "except NameError:\n",
    "    batch_size = 64\n",
    "\n",
    "save_model_path = './image_classification'\n",
    "n_samples = 4\n",
    "top_n_predictions = 3\n",
    "\n",
    "def test_model():\n",
    "    \"\"\"\n",
    "    Test the saved model against the test dataset\n",
    "    \"\"\"\n",
    "\n",
    "    test_features, test_labels = pickle.load(open('preprocess_test.p', mode='rb'))\n",
    "    loaded_graph = tf.Graph()\n",
    "\n",
    "    with tf.Session(graph=loaded_graph) as sess:\n",
    "        # Load model\n",
    "        loader = tf.train.import_meta_graph(save_model_path + '.meta')\n",
    "        loader.restore(sess, save_model_path)\n",
    "\n",
    "        # Get Tensors from loaded model\n",
    "        loaded_x = loaded_graph.get_tensor_by_name('x:0')\n",
    "        loaded_y = loaded_graph.get_tensor_by_name('y:0')\n",
    "        loaded_keep_prob = loaded_graph.get_tensor_by_name('keep_prob:0')\n",
    "        loaded_logits = loaded_graph.get_tensor_by_name('logits:0')\n",
    "        loaded_acc = loaded_graph.get_tensor_by_name('accuracy:0')\n",
    "        \n",
    "        # Get accuracy in batches for memory limitations\n",
    "        test_batch_acc_total = 0\n",
    "        test_batch_count = 0\n",
    "        \n",
    "        for test_feature_batch, test_label_batch in helper.batch_features_labels(test_features, test_labels, batch_size):\n",
    "            test_batch_acc_total += sess.run(\n",
    "                loaded_acc,\n",
    "                feed_dict={loaded_x: test_feature_batch, loaded_y: test_label_batch, loaded_keep_prob: 1.0})\n",
    "            test_batch_count += 1\n",
    "\n",
    "        print('Testing Accuracy: {}\\n'.format(test_batch_acc_total/test_batch_count))\n",
    "\n",
    "        # Print Random Samples\n",
    "        random_test_features, random_test_labels = tuple(zip(*random.sample(list(zip(test_features, test_labels)), n_samples)))\n",
    "        random_test_predictions = sess.run(\n",
    "            tf.nn.top_k(tf.nn.softmax(loaded_logits), top_n_predictions),\n",
    "            feed_dict={loaded_x: random_test_features, loaded_y: random_test_labels, loaded_keep_prob: 1.0})\n",
    "        helper.display_image_predictions(random_test_features, random_test_labels, random_test_predictions)\n",
    "\n",
    "\n",
    "test_model()"
   ]
  },
  {
   "cell_type": "markdown",
   "metadata": {
    "deletable": true,
    "editable": true
   },
   "source": [
    "## Why 50-80% Accuracy?\n",
    "You might be wondering why you can't get an accuracy any higher. First things first, 50% isn't bad for a simple CNN.  Pure guessing would get you 10% accuracy. However, you might notice people are getting scores [well above 80%](http://rodrigob.github.io/are_we_there_yet/build/classification_datasets_results.html#43494641522d3130).  That's because we haven't taught you all there is to know about neural networks. We still need to cover a few more techniques.\n",
    "## Submitting This Project\n",
    "When submitting this project, make sure to run all the cells before saving the notebook.  Save the notebook file as \"dlnd_image_classification.ipynb\" and save it as a HTML file under \"File\" -> \"Download as\".  Include the \"helper.py\" and \"problem_unittests.py\" files in your submission."
   ]
  }
 ],
 "metadata": {
  "kernelspec": {
   "display_name": "Python 3",
   "language": "python",
   "name": "python3"
  },
  "language_info": {
   "codemirror_mode": {
    "name": "ipython",
    "version": 3
   },
   "file_extension": ".py",
   "mimetype": "text/x-python",
   "name": "python",
   "nbconvert_exporter": "python",
   "pygments_lexer": "ipython3",
   "version": "3.5.2"
  },
  "widgets": {
   "state": {},
   "version": "1.1.2"
  }
 },
 "nbformat": 4,
 "nbformat_minor": 0
}
